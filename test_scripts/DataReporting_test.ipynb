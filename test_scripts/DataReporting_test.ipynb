{
 "cells": [
  {
   "cell_type": "code",
   "execution_count": null,
   "metadata": {},
   "outputs": [],
   "source": [
    "import sys\n",
    "sys.path.insert(0, '../')\n",
    "\n",
    "from DR_Main import DataReporting"
   ]
  },
  {
   "cell_type": "markdown",
   "metadata": {},
   "source": [
    "## Individual Reporting"
   ]
  },
  {
   "cell_type": "code",
   "execution_count": null,
   "metadata": {},
   "outputs": [],
   "source": [
    "HL_individual_report = DataReporting('data_testing/logHL_Lombardo_dataset.tsv', endpoint_name='logHL', task='regression',\n",
    "                                     feature_type='ecfp4')\n",
    "HL_individual_report.get_individual_reporting()"
   ]
  },
  {
   "cell_type": "code",
   "execution_count": null,
   "metadata": {},
   "outputs": [],
   "source": [
    "CL_individual_report = DataReporting('data_testing/logCL_Lombardo_dataset.tsv', endpoint_name='logCL', task='regression',\n",
    "                                     feature_type='ecfp4')\n",
    "CL_individual_report.get_individual_reporting()"
   ]
  },
  {
   "cell_type": "markdown",
   "metadata": {},
   "source": [
    "## Comparative Reporting"
   ]
  },
  {
   "cell_type": "code",
   "execution_count": null,
   "metadata": {},
   "outputs": [],
   "source": [
    "HL_comparative_report = DataReporting('data_testing/logHL_final_dataset.tsv', endpoint_name='logHL', task='regression',\n",
    "                                      feature_type='ecfp4')\n",
    "HL_comparative_report.get_comparative_reporting()"
   ]
  },
  {
   "cell_type": "code",
   "execution_count": null,
   "metadata": {},
   "outputs": [],
   "source": [
    "CL_comparative_report = DataReporting('data_testing/logCL_final_dataset.tsv', endpoint_name='logCL', task='regression',\n",
    "                                      feature_type='ecfp4')\n",
    "CL_comparative_report.get_comparative_reporting()"
   ]
  },
  {
   "cell_type": "markdown",
   "metadata": {},
   "source": [
    "### Reference Set"
   ]
  },
  {
   "cell_type": "code",
   "execution_count": null,
   "metadata": {},
   "outputs": [],
   "source": [
    "HL_comparative_report = DataReporting('data_testing/logHL_final_dataset.tsv', endpoint_name='logHL', task='regression',\n",
    "                                      feature_type='ecfp4', reference_set='data_testing/drugs.tsv')\n",
    "HL_comparative_report.get_comparative_reporting()"
   ]
  },
  {
   "cell_type": "code",
   "execution_count": null,
   "metadata": {},
   "outputs": [],
   "source": [
    "CL_comparative_report = DataReporting('data_testing/logCL_final_dataset.tsv', endpoint_name='logCL', task='regression',\n",
    "                                      feature_type='ecfp4', reference_set='data_testing/drugs.tsv')\n",
    "CL_comparative_report.get_comparative_reporting()"
   ]
  }
 ],
 "metadata": {
  "kernelspec": {
   "display_name": "Python 3",
   "language": "python",
   "name": "python3"
  },
  "language_info": {
   "codemirror_mode": {
    "name": "ipython",
    "version": 3
   },
   "file_extension": ".py",
   "mimetype": "text/x-python",
   "name": "python",
   "nbconvert_exporter": "python",
   "pygments_lexer": "ipython3",
   "version": "3.9.21"
  }
 },
 "nbformat": 4,
 "nbformat_minor": 2
}
