{
 "cells": [
  {
   "cell_type": "code",
   "execution_count": null,
   "metadata": {},
   "outputs": [],
   "source": [
    "import sys\n",
    "sys.path.insert(0, '../')\n",
    "\n",
    "from DR_Main import DataReporting"
   ]
  },
  {
   "cell_type": "markdown",
   "metadata": {},
   "source": [
    "## Individual Reporting"
   ]
  },
  {
   "cell_type": "code",
   "execution_count": null,
   "metadata": {},
   "outputs": [],
   "source": [
    "HL_individual_report = DataReporting('data_testing/logHL_Lombardo_dataset.tsv', endpoint_name='logHL', task='regression',\n",
    "                                     feature_type='ecfp4')\n",
    "HL_individual_report.get_individual_reporting()"
   ]
  },
  {
   "cell_type": "code",
   "execution_count": null,
   "metadata": {},
   "outputs": [],
   "source": [
    "CL_individual_report = DataReporting('data_testing/logCL_Lombardo_dataset.tsv', endpoint_name='logCL', task='regression',\n",
    "                                     feature_type='ecfp4')\n",
    "CL_individual_report.get_individual_reporting()"
   ]
  },
  {
   "cell_type": "markdown",
   "metadata": {},
   "source": [
    "## Comparative Reporting"
   ]
  },
  {
   "cell_type": "code",
   "execution_count": null,
   "metadata": {},
   "outputs": [],
   "source": [
    "HL_comparative_report = DataReporting('data_testing/logHL_final_dataset.tsv', endpoint_name='logHL', task='regression',\n",
    "                                     feature_type='ecfp4')\n",
    "HL_comparative_report.get_individual_reporting()"
   ]
  },
  {
   "cell_type": "code",
   "execution_count": null,
   "metadata": {},
   "outputs": [],
   "source": [
    "CL_comparative_report = DataReporting('data_testing/logCL_final_dataset.tsv', endpoint_name='logCL', task='regression',\n",
    "                                     feature_type='ecfp4')\n",
    "CL_comparative_report.get_individual_reporting()"
   ]
  },
  {
   "cell_type": "markdown",
   "metadata": {},
   "source": [
    "### Reference Set"
   ]
  },
  {
   "cell_type": "code",
   "execution_count": null,
   "metadata": {},
   "outputs": [],
   "source": [
    "HL_comparative_report = DataReporting('data_testing/logHL_final_dataset.tsv', endpoint_name='logHL', task='regression',\n",
    "                                     feature_type='ecfp4', reference_set='/chemotargets/interchange/luca/reference_sets/drugs.smi')\n",
    "HL_comparative_report.get_individual_reporting()"
   ]
  },
  {
   "cell_type": "code",
   "execution_count": null,
   "metadata": {},
   "outputs": [],
   "source": [
    "CL_comparative_report = DataReporting('data_testing/logCL_final_dataset.tsv', endpoint_name='logCL', task='regression',\n",
    "                                     feature_type='ecfp4', reference_set='/chemotargets/interchange/luca/reference_sets/drugs.smi')\n",
    "CL_comparative_report.get_individual_reporting()"
   ]
  }
 ],
 "metadata": {
  "language_info": {
   "name": "python"
  }
 },
 "nbformat": 4,
 "nbformat_minor": 2
}
