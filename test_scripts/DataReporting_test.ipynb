{
 "cells": [
  {
   "cell_type": "code",
   "execution_count": 1,
   "metadata": {},
   "outputs": [
    {
     "ename": "SyntaxError",
     "evalue": "f-string: unmatched '[' (DR_Main.py, line 218)",
     "output_type": "error",
     "traceback": [
      "Traceback \u001b[0;36m(most recent call last)\u001b[0m:\n",
      "\u001b[0m  File \u001b[1;32m~/.conda/envs/data_reporting/lib/python3.9/site-packages/IPython/core/interactiveshell.py:3550\u001b[0m in \u001b[1;35mrun_code\u001b[0m\n    exec(code_obj, self.user_global_ns, self.user_ns)\u001b[0m\n",
      "\u001b[0;36m  Cell \u001b[0;32mIn[1], line 4\u001b[0;36m\n\u001b[0;31m    from DR_Main import DataReporting\u001b[0;36m\n",
      "\u001b[0;36m  File \u001b[0;32m~/host-home/Documents/data_reporting/test_scripts/../DR_Main.py:218\u001b[0;36m\u001b[0m\n\u001b[0;31m    logging.error(f\"The data type of the endpoint value is not numeric but {data[config[\"NAMES\"][\"VALUE\"]].dtype}\")\u001b[0m\n\u001b[0m                                                                                         ^\u001b[0m\n\u001b[0;31mSyntaxError\u001b[0m\u001b[0;31m:\u001b[0m f-string: unmatched '['\n"
     ]
    }
   ],
   "source": [
    "import sys\n",
    "sys.path.insert(0, '../')\n",
    "\n",
    "from DR_Main import DataReporting"
   ]
  },
  {
   "cell_type": "markdown",
   "metadata": {},
   "source": [
    "## Individual Reporting"
   ]
  },
  {
   "cell_type": "code",
   "execution_count": null,
   "metadata": {},
   "outputs": [],
   "source": [
    "HL_individual_report = DataReporting('data_testing/logHL_Lombardo_dataset.tsv', endpoint_name='logHL', task='regression',\n",
    "                                     feature_type='ecfp4')\n",
    "HL_individual_report.get_individual_reporting()"
   ]
  },
  {
   "cell_type": "code",
   "execution_count": null,
   "metadata": {},
   "outputs": [],
   "source": [
    "CL_individual_report = DataReporting('data_testing/logCL_Lombardo_dataset.tsv', endpoint_name='logCL', task='regression',\n",
    "                                     feature_type='ecfp4')\n",
    "CL_individual_report.get_individual_reporting()"
   ]
  },
  {
   "cell_type": "markdown",
   "metadata": {},
   "source": [
    "## Comparative Reporting"
   ]
  },
  {
   "cell_type": "code",
   "execution_count": null,
   "metadata": {},
   "outputs": [],
   "source": [
    "HL_comparative_report = DataReporting('data_testing/logHL_final_dataset.tsv', endpoint_name='logHL', task='regression',\n",
    "                                     feature_type='ecfp4')\n",
    "HL_comparative_report.get_individual_reporting()"
   ]
  },
  {
   "cell_type": "code",
   "execution_count": null,
   "metadata": {},
   "outputs": [],
   "source": [
    "CL_comparative_report = DataReporting('data_testing/logCL_final_dataset.tsv', endpoint_name='logCL', task='regression',\n",
    "                                     feature_type='ecfp4')\n",
    "CL_comparative_report.get_individual_reporting()"
   ]
  },
  {
   "cell_type": "markdown",
   "metadata": {},
   "source": [
    "### Reference Set"
   ]
  },
  {
   "cell_type": "code",
   "execution_count": null,
   "metadata": {},
   "outputs": [],
   "source": [
    "HL_comparative_report = DataReporting('data_testing/logHL_final_dataset.tsv', endpoint_name='logHL', task='regression',\n",
    "                                     feature_type='ecfp4', reference_set='/chemotargets/interchange/luca/reference_sets/drugs.smi')\n",
    "HL_comparative_report.get_individual_reporting()"
   ]
  },
  {
   "cell_type": "code",
   "execution_count": null,
   "metadata": {},
   "outputs": [],
   "source": [
    "CL_comparative_report = DataReporting('data_testing/logCL_final_dataset.tsv', endpoint_name='logCL', task='regression',\n",
    "                                     feature_type='ecfp4', reference_set='/chemotargets/interchange/luca/reference_sets/drugs.smi')\n",
    "CL_comparative_report.get_individual_reporting()"
   ]
  }
 ],
 "metadata": {
  "kernelspec": {
   "display_name": "data_reporting",
   "language": "python",
   "name": "python3"
  },
  "language_info": {
   "codemirror_mode": {
    "name": "ipython",
    "version": 3
   },
   "file_extension": ".py",
   "mimetype": "text/x-python",
   "name": "python",
   "nbconvert_exporter": "python",
   "pygments_lexer": "ipython3",
   "version": "3.9.21"
  }
 },
 "nbformat": 4,
 "nbformat_minor": 2
}
