{
 "cells": [
  {
   "cell_type": "code",
   "execution_count": null,
   "metadata": {},
   "outputs": [],
   "source": [
    "import sys\n",
    "sys.path.insert(0, '../assay_inspector')\n",
    "\n",
    "from AI_Main import AssayInspector"
   ]
  },
  {
   "cell_type": "code",
   "execution_count": null,
   "metadata": {},
   "outputs": [],
   "source": [
    "# import pandas as pd\n",
    "# df = pd.read_csv('../data/half_life/logHL_ecfp4_dataset.tsv', sep='\\t')\n",
    "# df_descriptors = df.drop(columns=['inchikey', 'ref', 'endpoint', 'value'])\n",
    "# df.to_csv('df.tsv', sep='\\t', index=False)"
   ]
  },
  {
   "cell_type": "code",
   "execution_count": null,
   "metadata": {},
   "outputs": [],
   "source": [
    "# import pandas as pd\n",
    "# df = pd.read_csv('data_testing/logHL_final_dataset.tsv', sep='\\t')\n",
    "# df\n",
    "# df[['smiles','ref','inchikey','value','endpoint']].to_csv('test.tsv', sep='\\t', index=False)"
   ]
  },
  {
   "cell_type": "code",
   "execution_count": null,
   "metadata": {},
   "outputs": [],
   "source": [
    "# df['id'] = [tuple([x]) for x in range(len(df))]\n",
    "# import numpy as np\n",
    "# df['f1'] = np.random.randint(low=0, high=len(df), size=len(df))\n",
    "# df['f2'] = np.random.randint(low=0, high=len(df), size=len(df))\n",
    "# df_descriptors = df.drop(columns=['inchikey','endpoint','value','ref','smiles'])"
   ]
  },
  {
   "cell_type": "code",
   "execution_count": null,
   "metadata": {},
   "outputs": [],
   "source": [
    "# df_descriptors"
   ]
  },
  {
   "cell_type": "markdown",
   "metadata": {},
   "source": [
    "## Individual Reporting"
   ]
  },
  {
   "cell_type": "code",
   "execution_count": null,
   "metadata": {},
   "outputs": [],
   "source": [
    "HL_individual_report = AssayInspector('./data_testing/logHL_Lombardo_dataset.tsv', endpoint_name='logHL', task='regression',\n",
    "                                      feature_type='ecfp4')\n",
    "                                    #  feature_type='custom', descriptors_df=df_descriptors)\n",
    "HL_individual_report.get_individual_reporting()"
   ]
  },
  {
   "cell_type": "code",
   "execution_count": null,
   "metadata": {},
   "outputs": [],
   "source": [
    "CL_individual_report = AssayInspector('data_testing/logCL_Lombardo_dataset.tsv', endpoint_name='logCL', task='regression',\n",
    "                                     feature_type='ecfp4')\n",
    "CL_individual_report.get_individual_reporting()"
   ]
  },
  {
   "cell_type": "markdown",
   "metadata": {},
   "source": [
    "## Comparative Reporting"
   ]
  },
  {
   "cell_type": "code",
   "execution_count": null,
   "metadata": {},
   "outputs": [],
   "source": [
    "HL_comparative_report = AssayInspector('data_testing/logHL_final_dataset.tsv', endpoint_name='logHL', task='regression',\n",
    "                                       feature_type='ecfp4')\n",
    "                                    #   feature_type='custom', descriptors_df=df_descriptors)\n",
    "HL_comparative_report.get_comparative_reporting()"
   ]
  },
  {
   "cell_type": "code",
   "execution_count": null,
   "metadata": {},
   "outputs": [],
   "source": [
    "CL_comparative_report = AssayInspector('data_testing/logCL_final_dataset.tsv', endpoint_name='logCL', task='regression',\n",
    "                                      feature_type='ecfp4')\n",
    "CL_comparative_report.get_comparative_reporting()"
   ]
  },
  {
   "cell_type": "markdown",
   "metadata": {},
   "source": [
    "### Reference Set"
   ]
  },
  {
   "cell_type": "code",
   "execution_count": null,
   "metadata": {},
   "outputs": [],
   "source": [
    "HL_comparative_report = AssayInspector('data_testing/logHL_final_dataset.tsv', endpoint_name='logHL', task='regression',\n",
    "                                      feature_type='ecfp4', reference_set='data_testing/drugs.tsv')\n",
    "HL_comparative_report.get_comparative_reporting()"
   ]
  },
  {
   "cell_type": "code",
   "execution_count": null,
   "metadata": {},
   "outputs": [],
   "source": [
    "CL_comparative_report = AssayInspector('data_testing/logCL_final_dataset.tsv', endpoint_name='logCL', task='regression',\n",
    "                                      feature_type='ecfp4', reference_set='data_testing/drugs.tsv')\n",
    "CL_comparative_report.get_comparative_reporting()"
   ]
  }
 ],
 "metadata": {
  "kernelspec": {
   "display_name": "Python 3",
   "language": "python",
   "name": "python3"
  },
  "language_info": {
   "codemirror_mode": {
    "name": "ipython",
    "version": 3
   },
   "file_extension": ".py",
   "mimetype": "text/x-python",
   "name": "python",
   "nbconvert_exporter": "python",
   "pygments_lexer": "ipython3",
   "version": "3.9.21"
  }
 },
 "nbformat": 4,
 "nbformat_minor": 2
}
