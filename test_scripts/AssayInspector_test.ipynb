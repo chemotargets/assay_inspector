{
 "cells": [
  {
   "cell_type": "code",
   "execution_count": 1,
   "metadata": {},
   "outputs": [],
   "source": [
    "from assay_inspector import AssayInspector\n",
    "\n",
    "root = '../data/'"
   ]
  },
  {
   "cell_type": "markdown",
   "metadata": {},
   "source": [
    "## Individual Reporting"
   ]
  },
  {
   "cell_type": "code",
   "execution_count": null,
   "metadata": {
    "scrolled": true
   },
   "outputs": [],
   "source": [
    "HL_individual_report = AssayInspector(root+'/half_life/logHL_Lombardo_dataset.tsv', endpoint_name='logHL', task='regression',\n",
    "                                      feature_type='ecfp4')\n",
    "HL_individual_report.get_individual_reporting()"
   ]
  },
  {
   "cell_type": "code",
   "execution_count": null,
   "metadata": {},
   "outputs": [],
   "source": [
    "CL_individual_report = AssayInspector(root+'/clearance/logCL_Lombardo_dataset.tsv', endpoint_name='logCL', task='regression',\n",
    "                                     feature_type='ecfp4')\n",
    "CL_individual_report.get_individual_reporting()"
   ]
  },
  {
   "cell_type": "markdown",
   "metadata": {},
   "source": [
    "## Comparative Reporting"
   ]
  },
  {
   "cell_type": "code",
   "execution_count": null,
   "metadata": {},
   "outputs": [],
   "source": [
    "HL_comparative_report = AssayInspector(root+'/half_life/logHL_aggregated_dataset.tsv', endpoint_name='logHL', task='regression',\n",
    "                                       feature_type='ecfp4')\n",
    "HL_comparative_report.get_comparative_reporting()"
   ]
  },
  {
   "cell_type": "code",
   "execution_count": null,
   "metadata": {},
   "outputs": [],
   "source": [
    "CL_comparative_report = AssayInspector(root+'/clearance/logCL_aggregated_dataset.tsv', endpoint_name='logCL', task='regression',\n",
    "                                      feature_type='ecfp4')\n",
    "CL_comparative_report.get_comparative_reporting()"
   ]
  },
  {
   "cell_type": "markdown",
   "metadata": {},
   "source": [
    "### Reference Set"
   ]
  },
  {
   "cell_type": "code",
   "execution_count": null,
   "metadata": {},
   "outputs": [],
   "source": [
    "HL_comparative_report = AssayInspector(root+'/half_life/logHL_aggregated_dataset.tsv', endpoint_name='logHL', task='regression',\n",
    "                                      feature_type='ecfp4', reference_set='data_testing/drugs.tsv')\n",
    "HL_comparative_report.get_comparative_reporting()"
   ]
  },
  {
   "cell_type": "code",
   "execution_count": null,
   "metadata": {},
   "outputs": [],
   "source": [
    "CL_comparative_report = AssayInspector(root+'/clearance/logCL_aggregated_dataset.tsv', endpoint_name='logCL', task='regression',\n",
    "                                      feature_type='ecfp4', reference_set='data_testing/drugs.tsv')\n",
    "CL_comparative_report.get_comparative_reporting()"
   ]
  }
 ],
 "metadata": {
  "kernelspec": {
   "display_name": "assay_inspector_test",
   "language": "python",
   "name": "python3"
  },
  "language_info": {
   "codemirror_mode": {
    "name": "ipython",
    "version": 3
   },
   "file_extension": ".py",
   "mimetype": "text/x-python",
   "name": "python",
   "nbconvert_exporter": "python",
   "pygments_lexer": "ipython3",
   "version": "3.9.21"
  }
 },
 "nbformat": 4,
 "nbformat_minor": 4
}
