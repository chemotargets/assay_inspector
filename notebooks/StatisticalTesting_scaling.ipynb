{
 "cells": [
  {
   "cell_type": "markdown",
   "metadata": {},
   "source": [
    "# Statistical significance: ANOVA followed by Tukey HSD test"
   ]
  },
  {
   "cell_type": "code",
   "execution_count": null,
   "metadata": {},
   "outputs": [],
   "source": [
    "import pandas as pd"
   ]
  },
  {
   "cell_type": "code",
   "execution_count": null,
   "metadata": {},
   "outputs": [],
   "source": [
    "endpoint_divergent_dict = {'half_life': 'Fan', 'clearance':'Astrazeneca'}\n",
    "df_dict = {}"
   ]
  },
  {
   "cell_type": "code",
   "execution_count": null,
   "metadata": {},
   "outputs": [],
   "source": [
    "for endpoint, divergent_source in endpoint_divergent_dict.items():\n",
    "    # Load data\n",
    "    homogenous_results = pd.read_csv(f'../results_scaling/{endpoint}/Homogenous/XGBoost_rdkit_ecfp4_metrics_folds.tsv', sep='\\t')\n",
    "    divergent_results = pd.read_csv(f'../results_scaling/{endpoint}/{divergent_source}/XGBoost_rdkit_ecfp4_metrics_folds.tsv', sep='\\t')\n",
    "    homogenous_divergent_results = pd.read_csv(f'../results_scaling/{endpoint}/Homogenous_{divergent_source}/XGBoost_rdkit_ecfp4_metrics_folds.tsv', sep='\\t')\n",
    "\n",
    "    # Build dataframes\n",
    "    df_homogenous = homogenous_results[['seed','fold','r2']].loc[homogenous_results['ref'] == 'Homogenous']\n",
    "    df_homogenous['cv_cycle'] = df_homogenous['seed'].astype(str)+'_'+df_homogenous['fold'].astype(str)\n",
    "    df_homogenous['method'] = 'homogenous'\n",
    "    df_homogenous_scaling = homogenous_divergent_results[['seed','fold','r2']].loc[homogenous_divergent_results['ref'] == 'Homogenous']\n",
    "    df_homogenous_scaling['cv_cycle'] = df_homogenous_scaling['seed'].astype(str)+'_'+df_homogenous_scaling['fold'].astype(str)\n",
    "    df_homogenous_scaling['method'] = 'homogenous_divergent_scaling'\n",
    "    df_homogenous = pd.concat([df_homogenous, df_homogenous_scaling], axis=0)\n",
    "    df_homogenous['split'] = 'random'\n",
    "\n",
    "    df_divergent = divergent_results[['seed','fold','r2']].loc[divergent_results['ref'] == divergent_source]\n",
    "    df_divergent['cv_cycle'] = df_divergent['seed'].astype(str)+'_'+df_divergent['fold'].astype(str)\n",
    "    df_divergent['method'] = 'divergent'\n",
    "    df_divergent_scaling = homogenous_divergent_results[['seed','fold','r2']].loc[homogenous_divergent_results['ref'] == divergent_source]\n",
    "    df_divergent_scaling['cv_cycle'] = df_divergent_scaling['seed'].astype(str)+'_'+df_divergent_scaling['fold'].astype(str)\n",
    "    df_divergent_scaling['method'] = 'homogenous_divergent_scaling'\n",
    "    df_divergent = pd.concat([df_divergent, df_divergent_scaling], axis=0)\n",
    "    df_divergent['split'] = 'random'\n",
    "\n",
    "    # Append dataframes\n",
    "    df_dict[endpoint] = [df_homogenous, df_divergent]"
   ]
  },
  {
   "cell_type": "markdown",
   "metadata": {},
   "source": [
    "##  Examine the parametric testing assumptions"
   ]
  },
  {
   "cell_type": "markdown",
   "metadata": {},
   "source": [
    "### The independence assumption\n",
    "\n",
    "The usage of appropriate sampling mechanisms (such as 5x5 repeated CV) is so important to ensure the samples are sufficiently independent."
   ]
  },
  {
   "cell_type": "markdown",
   "metadata": {},
   "source": [
    "### The homogeneity of variances assumption: Levene test"
   ]
  },
  {
   "cell_type": "code",
   "execution_count": null,
   "metadata": {},
   "outputs": [],
   "source": [
    "from scipy.stats import levene"
   ]
  },
  {
   "cell_type": "code",
   "execution_count": null,
   "metadata": {},
   "outputs": [],
   "source": [
    "for endpoint, df_list in df_dict.items():\n",
    "    print(f'\\n{endpoint}\\n')\n",
    "    groups_homogenous = df_list[0].groupby('method')['r2'].apply(list)\n",
    "    groups_divergnet = df_list[1].groupby('method')['r2'].apply(list)\n",
    "\n",
    "    print('Homogenous sources')\n",
    "    stat, pvalue = levene(*groups_homogenous)\n",
    "    print(f'Levene test for R2: p-value = {pvalue}')\n",
    "\n",
    "    print('Divergent source')\n",
    "    stat, pvalue = levene(*groups_divergnet)\n",
    "    print(f'Levene test for R2: p-value = {pvalue}')"
   ]
  },
  {
   "cell_type": "markdown",
   "metadata": {},
   "source": [
    "### The normality assumption"
   ]
  },
  {
   "cell_type": "code",
   "execution_count": null,
   "metadata": {},
   "outputs": [],
   "source": [
    "from model_comparison import make_normality_diagnostic"
   ]
  },
  {
   "cell_type": "code",
   "execution_count": null,
   "metadata": {},
   "outputs": [],
   "source": [
    "for endpoint, df_list in df_dict.items():\n",
    "    print(f'\\n{endpoint}\\n')\n",
    "\n",
    "    print('Homogenous sources')\n",
    "    make_normality_diagnostic(df_list[0].copy(), ['r2'])\n",
    "\n",
    "    print('Divergent source')\n",
    "    make_normality_diagnostic(df_list[1].copy(), ['r2'])"
   ]
  },
  {
   "cell_type": "markdown",
   "metadata": {},
   "source": [
    "## Perform repeated measures ANOVA"
   ]
  },
  {
   "cell_type": "code",
   "execution_count": null,
   "metadata": {},
   "outputs": [],
   "source": [
    "from model_comparison import make_boxplots_parametric, rm_tukey_hsd"
   ]
  },
  {
   "cell_type": "code",
   "execution_count": null,
   "metadata": {},
   "outputs": [],
   "source": [
    "for endpoint, df_list in df_dict.items():\n",
    "    print(f'\\n{endpoint}\\n')\n",
    "\n",
    "    print('Homogenous sources')\n",
    "    make_boxplots_parametric(df_list[0].copy(), ['r2'])\n",
    "\n",
    "    print('Divergent source')\n",
    "    make_boxplots_parametric(df_list[1].copy(), ['r2'])"
   ]
  },
  {
   "cell_type": "markdown",
   "metadata": {},
   "source": [
    "### Tukey HSD Test"
   ]
  },
  {
   "cell_type": "code",
   "execution_count": null,
   "metadata": {},
   "outputs": [],
   "source": [
    "for endpoint, df_list in df_dict.items():\n",
    "    print(f'\\n{endpoint}\\n')\n",
    "\n",
    "    print('Homogenous sources')\n",
    "    tukey_results = rm_tukey_hsd(df_list[0], \"r2\", \"method\")[0]\n",
    "    print(tukey_results)\n",
    "\n",
    "    print('Divergent source')\n",
    "    tukey_results = rm_tukey_hsd(df_list[1], \"r2\", \"method\")[0]\n",
    "    print(tukey_results)"
   ]
  },
  {
   "cell_type": "code",
   "execution_count": null,
   "metadata": {},
   "outputs": [],
   "source": [
    "rm_tukey_hsd(df_dict['half_life'][0], \"r2\", \"method\")[0]"
   ]
  },
  {
   "cell_type": "code",
   "execution_count": null,
   "metadata": {},
   "outputs": [],
   "source": [
    "rm_tukey_hsd(df_dict['half_life'][1], \"r2\", \"method\")[0]"
   ]
  },
  {
   "cell_type": "code",
   "execution_count": null,
   "metadata": {},
   "outputs": [],
   "source": [
    "rm_tukey_hsd(df_dict['clearance'][0], \"r2\", \"method\")[0]"
   ]
  },
  {
   "cell_type": "code",
   "execution_count": null,
   "metadata": {},
   "outputs": [],
   "source": [
    "rm_tukey_hsd(df_dict['clearance'][1], \"r2\", \"method\")[0]"
   ]
  },
  {
   "cell_type": "code",
   "execution_count": null,
   "metadata": {},
   "outputs": [],
   "source": []
  }
 ],
 "metadata": {
  "kernelspec": {
   "display_name": "AssayInspector",
   "language": "python",
   "name": "assayinspector"
  },
  "language_info": {
   "codemirror_mode": {
    "name": "ipython",
    "version": 3
   },
   "file_extension": ".py",
   "mimetype": "text/x-python",
   "name": "python",
   "nbconvert_exporter": "python",
   "pygments_lexer": "ipython3",
   "version": "3.9.21"
  }
 },
 "nbformat": 4,
 "nbformat_minor": 4
}
