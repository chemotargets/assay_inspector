{
 "cells": [
  {
   "cell_type": "markdown",
   "metadata": {},
   "source": [
    "# Data Preprocessing: Molecule Standardization, Deduplication and Feature Profile Calculation"
   ]
  },
  {
   "cell_type": "code",
   "execution_count": null,
   "metadata": {},
   "outputs": [],
   "source": [
    "## Imports\n",
    "\n",
    "import os\n",
    "\n",
    "import sys\n",
    "sys.path.insert(0, '../assay_inspector')\n",
    "\n",
    "from AI_MoleculeInfo import MoleculeInfo\n",
    "from AI_MoleculeData import MoleculeData\n",
    "from AI_FeaturesPreprocessing import FeaturesPreprocessing"
   ]
  },
  {
   "cell_type": "code",
   "execution_count": null,
   "metadata": {},
   "outputs": [],
   "source": [
    "import random\n",
    "seed = 42\n",
    "random.seed(seed)"
   ]
  },
  {
   "cell_type": "code",
   "execution_count": null,
   "metadata": {},
   "outputs": [],
   "source": [
    "endpoints = {'half_life':'logHL', 'clearance':'logCL'}\n",
    "features = ['ecfp4', 'rdkit_ecfp4']\n",
    "features_dict = {'rdkit': [MoleculeInfo.FEAT_RDKIT_DESC], 'ecfp4': [MoleculeInfo.FEAT_ECFP4], 'rdkit_ecfp4':[MoleculeInfo.FEAT_RDKIT_DESC, MoleculeInfo.FEAT_ECFP4] }"
   ]
  },
  {
   "cell_type": "code",
   "execution_count": null,
   "metadata": {},
   "outputs": [],
   "source": [
    "for endpoint in endpoints:\n",
    "    for feature in features:\n",
    "\n",
    "        # Load data\n",
    "        data = MoleculeData(source=os.path.join(os.getcwd(), '..', 'data', endpoint, f'{endpoints[endpoint]}_aggregated_dataset.tsv'))\n",
    "\n",
    "        # Deduplicate the dataset\n",
    "        data._deduplicate(subset=['inchikey'], endpoint2task={endpoint:'REGRESSION'})\n",
    "\n",
    "        # Perform feature preprocessing\n",
    "        preprocessing = FeaturesPreprocessing()\n",
    "        data = preprocessing.fit_transform(data, features_ids=features_dict[feature], endpoint2task={endpoint:'REGRESSION'})\n",
    "\n",
    "        # Get the molecule DataFrame\n",
    "        data_df = data.DataFrame(features=features_dict[feature],\n",
    "                                 columns=['inchikey','smiles','value','ref','endpoint'])\n",
    "        \n",
    "        # Save the final dataframe\n",
    "        data_df.to_csv(os.path.join(os.getcwd(), '..', 'data', endpoint, f'{endpoints[endpoint]}_{feature}_dataset.tsv'), sep='\\t', index=False)"
   ]
  }
 ],
 "metadata": {
  "kernelspec": {
   "display_name": "Python 3",
   "language": "python",
   "name": "python3"
  },
  "language_info": {
   "codemirror_mode": {
    "name": "ipython",
    "version": 3
   },
   "file_extension": ".py",
   "mimetype": "text/x-python",
   "name": "python",
   "nbconvert_exporter": "python",
   "pygments_lexer": "ipython3",
   "version": "3.9.21"
  }
 },
 "nbformat": 4,
 "nbformat_minor": 2
}
